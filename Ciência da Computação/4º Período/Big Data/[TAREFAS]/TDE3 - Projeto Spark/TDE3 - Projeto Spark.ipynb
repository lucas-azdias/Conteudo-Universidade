{
  "nbformat": 4,
  "nbformat_minor": 0,
  "metadata": {
    "colab": {
      "provenance": [],
      "authorship_tag": "ABX9TyNLFrqM4iK3NBJAIkUK2lMb",
      "include_colab_link": true
    },
    "kernelspec": {
      "name": "python3",
      "display_name": "Python 3"
    },
    "language_info": {
      "name": "python"
    }
  },
  "cells": [
    {
      "cell_type": "markdown",
      "metadata": {
        "id": "view-in-github",
        "colab_type": "text"
      },
      "source": [
        "<a href=\"https://colab.research.google.com/github/lucas-azdias/Big-Data/blob/main/TDE3%20-%20Projeto%20Spark/TDE3%20-%20Projeto%20Spark.ipynb\" target=\"_parent\"><img src=\"https://colab.research.google.com/assets/colab-badge.svg\" alt=\"Open In Colab\"/></a>"
      ]
    },
    {
      "cell_type": "markdown",
      "source": [
        "# Processamento de Big Data com PySpark"
      ],
      "metadata": {
        "id": "L2fEYFuSavA3"
      }
    },
    {
      "cell_type": "code",
      "source": [
        "!pip install PySpark"
      ],
      "metadata": {
        "colab": {
          "base_uri": "https://localhost:8080/"
        },
        "id": "WKKCiIgpfmjL",
        "outputId": "91e4afc4-a9c9-470b-b3d5-0292251f32d5"
      },
      "execution_count": 1,
      "outputs": [
        {
          "output_type": "stream",
          "name": "stdout",
          "text": [
            "Collecting PySpark\n",
            "  Downloading pyspark-3.5.0.tar.gz (316.9 MB)\n",
            "\u001b[2K     \u001b[90m━━━━━━━━━━━━━━━━━━━━━━━━━━━━━━━━━━━━━━━━\u001b[0m \u001b[32m316.9/316.9 MB\u001b[0m \u001b[31m3.9 MB/s\u001b[0m eta \u001b[36m0:00:00\u001b[0m\n",
            "\u001b[?25h  Preparing metadata (setup.py) ... \u001b[?25l\u001b[?25hdone\n",
            "Requirement already satisfied: py4j==0.10.9.7 in /usr/local/lib/python3.10/dist-packages (from PySpark) (0.10.9.7)\n",
            "Building wheels for collected packages: PySpark\n",
            "  Building wheel for PySpark (setup.py) ... \u001b[?25l\u001b[?25hdone\n",
            "  Created wheel for PySpark: filename=pyspark-3.5.0-py2.py3-none-any.whl size=317425344 sha256=b1c1d237b750fee559c62580c1b2705a869112294b032f53514eb52d69d10fae\n",
            "  Stored in directory: /root/.cache/pip/wheels/41/4e/10/c2cf2467f71c678cfc8a6b9ac9241e5e44a01940da8fbb17fc\n",
            "Successfully built PySpark\n",
            "Installing collected packages: PySpark\n",
            "Successfully installed PySpark-3.5.0\n"
          ]
        }
      ]
    },
    {
      "cell_type": "code",
      "source": [
        "import pyspark\n",
        "from pyspark.sql import SparkSession\n",
        "\n",
        "spark = SparkSession.builder.appName(\"Censo escolar 2021\").master('local[*]').getOrCreate()\n",
        "sc = spark.sparkContext"
      ],
      "metadata": {
        "id": "hYOTZcWpfuni"
      },
      "execution_count": 2,
      "outputs": []
    },
    {
      "cell_type": "code",
      "source": [
        "# RDD with columns separated and header filtered\n",
        "rdd = sc.textFile(\"censo_escolar_2021.csv\").map(lambda x: x.split(\";\")).filter(lambda x: x[0] != \"NU_ANO_CENSO\")"
      ],
      "metadata": {
        "id": "GYhgFsJLNuFy"
      },
      "execution_count": 3,
      "outputs": []
    },
    {
      "cell_type": "markdown",
      "source": [
        "### 1. (1 ponto) Número de escolas em Curitiba;"
      ],
      "metadata": {
        "id": "7IqzE2_abBjl"
      }
    },
    {
      "cell_type": "code",
      "source": [
        "rdd_cwb = rdd.filter(lambda x: x[4].upper() == \"PR\" and x[6].upper() == \"CURITIBA\")\n",
        "amount_rdd__cwb = rdd_cwb.count()\n",
        "print(amount_rdd__cwb)"
      ],
      "metadata": {
        "id": "x1XEJuo-fc0m",
        "colab": {
          "base_uri": "https://localhost:8080/"
        },
        "outputId": "8c1d21d0-11b4-4fb6-ad1d-abd7ca02aae7"
      },
      "execution_count": 4,
      "outputs": [
        {
          "output_type": "stream",
          "name": "stdout",
          "text": [
            "1181\n"
          ]
        }
      ]
    },
    {
      "cell_type": "markdown",
      "source": [
        "### 2. (1 ponto) Número de escolas por Região Geográfica (NO_REGIAO) ordenado alfabeticamente de acordo com o nome da região;"
      ],
      "metadata": {
        "id": "WK06NfprexZL"
      }
    },
    {
      "cell_type": "code",
      "source": [
        "rdd_region = rdd.map(lambda x: (x[1], 1))\n",
        "rdd_region = rdd_region.reduceByKey(lambda x, y: x + y)\n",
        "rdd_region = rdd_region.sortByKey()\n",
        "rdd_region.collect()"
      ],
      "metadata": {
        "id": "nJ1ZThS6fd2R",
        "colab": {
          "base_uri": "https://localhost:8080/"
        },
        "outputId": "9f4d457a-a70a-4991-c907-0cd6cd9c1916"
      },
      "execution_count": 5,
      "outputs": [
        {
          "output_type": "execute_result",
          "data": {
            "text/plain": [
              "[('Centro-Oeste', 11659),\n",
              " ('Nordeste', 79039),\n",
              " ('Norte', 26095),\n",
              " ('Sudeste', 75329),\n",
              " ('Sul', 29018)]"
            ]
          },
          "metadata": {},
          "execution_count": 5
        }
      ]
    },
    {
      "cell_type": "markdown",
      "source": [
        "### 3. (2 pontos) Nome (NO_ENTIDADE), município (NO_MUNICIPIO) e quantidade de docentes da escola que possui o maior número de professores somando as categorias de Educação Básica (QT_DOC_BAS), Ensino Fundamental (QT_DOC_FUND) e Ensino Médio (QT_DOC_MED);"
      ],
      "metadata": {
        "id": "oqohioVJezi5"
      }
    },
    {
      "cell_type": "code",
      "source": [
        "empty_to_zero = lambda x: x if x != \"\" else 0\n",
        "\n",
        "rdd_prof = rdd.map(lambda x: ((x[14], x[6]), (x[338], x[342], x[345])))\n",
        "rdd_prof = rdd_prof.mapValues(lambda x: int(empty_to_zero(x[0])) + int(empty_to_zero(x[1])) + int(empty_to_zero(x[2])))\n",
        "higher_rdd_prof = rdd_prof.reduce(lambda x, y: x if x[1] > y[1] else y)\n",
        "print(higher_rdd_prof)"
      ],
      "metadata": {
        "id": "FudrZq76feNt",
        "colab": {
          "base_uri": "https://localhost:8080/"
        },
        "outputId": "2ac7fc7d-34ba-4804-be82-31b16db4166e"
      },
      "execution_count": 6,
      "outputs": [
        {
          "output_type": "stream",
          "name": "stdout",
          "text": [
            "(('EDUCACAO INFANTIL MUNICIPAL BALAO MAGICO', 'Bom Jardim de Minas'), 623)\n"
          ]
        }
      ]
    },
    {
      "cell_type": "markdown",
      "source": [
        "### 4. (2 pontos) Quantidade média de matrículas de Ensino Médio (QT_MAT_MED) em relação ao total de escolas por Região Geográfica (NO_REGIAO);"
      ],
      "metadata": {
        "id": "yYvMAHWke6TW"
      }
    },
    {
      "cell_type": "code",
      "source": [
        "rdd_mat = rdd.filter(lambda x: x[305] != \"\")\n",
        "rdd_mat = rdd_mat.map(lambda x: (x[1], (int(x[305]), 1)))\n",
        "rdd_mat = rdd_mat.reduceByKey(lambda x, y: (x[0] + y[0], x[1] + y[1]))\n",
        "rdd_mat = rdd_mat.mapValues(lambda x: x[0] / x[1])\n",
        "rdd_mat = rdd_mat.sortByKey()\n",
        "rdd_mat.collect()"
      ],
      "metadata": {
        "id": "JY5CM_nSfeql",
        "colab": {
          "base_uri": "https://localhost:8080/"
        },
        "outputId": "19917a8e-9ac6-4836-b63b-6e3e6efd17bb"
      },
      "execution_count": 14,
      "outputs": [
        {
          "output_type": "execute_result",
          "data": {
            "text/plain": [
              "[('Centro-Oeste', 62.39879681738793),\n",
              " ('Nordeste', 37.01694021488366),\n",
              " ('Norte', 38.21229861583844),\n",
              " ('Sudeste', 50.977217603666595),\n",
              " ('Sul', 38.790391988107345)]"
            ]
          },
          "metadata": {},
          "execution_count": 14
        }
      ]
    },
    {
      "cell_type": "markdown",
      "source": [
        "### 5. (2 pontos) Quantidade de escolas por Tipo da Localização (TP_LOCALIZACAO) e Tipo da Dependência Administrativa (TP_DEPENDENCIA);"
      ],
      "metadata": {
        "id": "gtBU2pUjfBH9"
      }
    },
    {
      "cell_type": "code",
      "source": [
        "rdd_loc = rdd.map(lambda x: ((int(x[17]), int(x[15])), 1))\n",
        "rdd_loc = rdd_loc.reduceByKey(lambda x, y: x + y)\n",
        "rdd_loc = rdd_loc.sortBy(lambda x: x[1], ascending=False)\n",
        "rdd_loc.collect()"
      ],
      "metadata": {
        "id": "hbaqDayFffLK",
        "colab": {
          "base_uri": "https://localhost:8080/"
        },
        "outputId": "fc06c1ba-9554-4262-b1ea-1f96723a3de1"
      },
      "execution_count": 8,
      "outputs": [
        {
          "output_type": "execute_result",
          "data": {
            "text/plain": [
              "[((2, 3), 70091),\n",
              " ((1, 3), 64278),\n",
              " ((1, 4), 51559),\n",
              " ((1, 2), 26796),\n",
              " ((2, 2), 6768),\n",
              " ((2, 4), 934),\n",
              " ((1, 1), 619),\n",
              " ((2, 1), 95)]"
            ]
          },
          "metadata": {},
          "execution_count": 8
        }
      ]
    },
    {
      "cell_type": "markdown",
      "source": [
        "### 6. (2 pontos) Quantidade de escolas por Sigla da Unidade da Federação (SG_UF) e Tipo de Dependência Administrativa (TP_DEPENDENCIA), ordenada de acordo com as maiores quantidades."
      ],
      "metadata": {
        "id": "qWlq0gQ1fGFb"
      }
    },
    {
      "cell_type": "code",
      "source": [
        "rdd_fed = rdd.map(lambda x: ((x[4], int(x[15])), 1))\n",
        "rdd_fed = rdd_fed.reduceByKey(lambda x, y: x + y)\n",
        "rdd_fed = rdd_fed.sortBy(lambda x: x[1], ascending=False)\n",
        "rdd_fed.collect()"
      ],
      "metadata": {
        "id": "KPPYZsV6fflQ",
        "colab": {
          "base_uri": "https://localhost:8080/"
        },
        "outputId": "8de4c6a2-81ce-41ba-cb00-2bcf40934f6e"
      },
      "execution_count": 9,
      "outputs": [
        {
          "output_type": "execute_result",
          "data": {
            "text/plain": [
              "[(('BA', 3), 15659),\n",
              " (('SP', 3), 13822),\n",
              " (('SP', 4), 13550),\n",
              " (('MG', 3), 13363),\n",
              " (('MA', 3), 11432),\n",
              " (('PA', 3), 10371),\n",
              " (('CE', 3), 7255),\n",
              " (('SP', 2), 6572),\n",
              " (('RJ', 3), 6368),\n",
              " (('MG', 4), 6259),\n",
              " (('PE', 3), 6184),\n",
              " (('RS', 3), 5867),\n",
              " (('PR', 3), 5487),\n",
              " (('RJ', 4), 5301),\n",
              " (('PI', 3), 5281),\n",
              " (('AM', 3), 5081),\n",
              " (('MG', 2), 4319),\n",
              " (('SC', 3), 4290),\n",
              " (('PB', 3), 3895),\n",
              " (('RN', 3), 3435),\n",
              " (('BA', 4), 3297),\n",
              " (('PE', 4), 3216),\n",
              " (('RS', 4), 3165),\n",
              " (('ES', 3), 2752),\n",
              " (('GO', 3), 2751),\n",
              " (('CE', 4), 2604),\n",
              " (('RS', 2), 2549),\n",
              " (('AL', 3), 2474),\n",
              " (('PR', 4), 2399),\n",
              " (('PR', 2), 2164),\n",
              " (('MT', 3), 1823),\n",
              " (('SC', 4), 1608),\n",
              " (('SE', 3), 1572),\n",
              " (('RJ', 2), 1547),\n",
              " (('TO', 3), 1534),\n",
              " (('MA', 4), 1394),\n",
              " (('SC', 2), 1371),\n",
              " (('GO', 4), 1334),\n",
              " (('MA', 2), 1305),\n",
              " (('BA', 2), 1168),\n",
              " (('PE', 2), 1083),\n",
              " (('PA', 4), 1046),\n",
              " (('GO', 2), 1040),\n",
              " (('PB', 4), 1022),\n",
              " (('AC', 3), 1009),\n",
              " (('RN', 4), 1008),\n",
              " (('MS', 3), 993),\n",
              " (('PA', 2), 954),\n",
              " (('MT', 2), 824),\n",
              " (('RN', 2), 821),\n",
              " (('RO', 3), 787),\n",
              " (('AM', 2), 786),\n",
              " (('PI', 2), 775),\n",
              " (('CE', 2), 761),\n",
              " (('DF', 4), 704),\n",
              " (('PB', 2), 695),\n",
              " (('DF', 2), 692),\n",
              " (('AC', 2), 669),\n",
              " (('ES', 4), 650),\n",
              " (('SE', 4), 625),\n",
              " (('AL', 4), 619),\n",
              " (('ES', 2), 610),\n",
              " (('TO', 2), 599),\n",
              " (('PI', 4), 565),\n",
              " (('MT', 4), 545),\n",
              " (('MS', 4), 519),\n",
              " (('RR', 3), 468),\n",
              " (('RO', 2), 422),\n",
              " (('AP', 3), 416),\n",
              " (('AP', 2), 406),\n",
              " (('RR', 2), 401),\n",
              " (('AM', 4), 366),\n",
              " (('MS', 2), 366),\n",
              " (('SE', 2), 340),\n",
              " (('AL', 2), 325),\n",
              " (('TO', 4), 265),\n",
              " (('RO', 4), 212),\n",
              " (('AP', 4), 106),\n",
              " (('MG', 1), 82),\n",
              " (('RJ', 1), 66),\n",
              " (('RR', 4), 65),\n",
              " (('RS', 1), 50),\n",
              " (('AC', 4), 49),\n",
              " (('SP', 1), 45),\n",
              " (('SC', 1), 39),\n",
              " (('CE', 1), 34),\n",
              " (('BA', 1), 32),\n",
              " (('MA', 1), 31),\n",
              " (('PR', 1), 29),\n",
              " (('RN', 1), 29),\n",
              " (('GO', 1), 27),\n",
              " (('PE', 1), 26),\n",
              " (('PB', 1), 26),\n",
              " (('PI', 1), 24),\n",
              " (('PA', 1), 24),\n",
              " (('ES', 1), 23),\n",
              " (('MT', 1), 19),\n",
              " (('AM', 1), 18),\n",
              " (('AL', 1), 17),\n",
              " (('TO', 1), 11),\n",
              " (('DF', 1), 11),\n",
              " (('MS', 1), 11),\n",
              " (('RO', 1), 10),\n",
              " (('SE', 1), 10),\n",
              " (('RR', 1), 7),\n",
              " (('AC', 1), 7),\n",
              " (('AP', 1), 6)]"
            ]
          },
          "metadata": {},
          "execution_count": 9
        }
      ]
    }
  ]
}