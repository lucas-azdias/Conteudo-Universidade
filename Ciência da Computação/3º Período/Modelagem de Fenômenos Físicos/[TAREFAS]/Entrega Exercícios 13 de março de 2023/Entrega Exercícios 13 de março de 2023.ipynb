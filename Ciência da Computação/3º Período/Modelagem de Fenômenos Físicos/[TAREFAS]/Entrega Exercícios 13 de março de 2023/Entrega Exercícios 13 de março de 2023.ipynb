{
  "nbformat": 4,
  "nbformat_minor": 0,
  "metadata": {
    "colab": {
      "provenance": [],
      "authorship_tag": "ABX9TyOGFotKw+mdz8RiycRLOfHj",
      "include_colab_link": true
    },
    "kernelspec": {
      "name": "python3",
      "display_name": "Python 3"
    },
    "language_info": {
      "name": "python"
    }
  },
  "cells": [
    {
      "cell_type": "markdown",
      "metadata": {
        "id": "view-in-github",
        "colab_type": "text"
      },
      "source": [
        "<a href=\"https://colab.research.google.com/github/FunNyLuAz/Modelagem-de-Fenomenos-Fisicos/blob/main/Entrega%20Exerc%C3%ADcios%2013%20de%20mar%C3%A7o%20de%202023/Entrega%20Exerc%C3%ADcios%2013%20de%20mar%C3%A7o%20de%202023.ipynb\" target=\"_parent\"><img src=\"https://colab.research.google.com/assets/colab-badge.svg\" alt=\"Open In Colab\"/></a>"
      ]
    },
    {
      "cell_type": "markdown",
      "source": [
        "Faça um algoritmo em Python para plotar as funções listadas a seguir\n",
        "com título, eixos, com ticks destacados, e coordenadas plotadas\n",
        "próximo as curvas. Lembre-se não plotar todos os pontos das funções\n",
        "escolha apenas alguns pontos para manter os gráficos legíveis."
      ],
      "metadata": {
        "id": "GQtJmISdSMX6"
      }
    },
    {
      "cell_type": "code",
      "execution_count": 1,
      "metadata": {
        "colab": {
          "base_uri": "https://localhost:8080/",
          "height": 295
        },
        "id": "sEdgsjBeSGvr",
        "outputId": "b4c78f12-7996-4cc3-b5a5-6470effd029d"
      },
      "outputs": [
        {
          "output_type": "display_data",
          "data": {
            "text/plain": [
              "<Figure size 432x288 with 1 Axes>"
            ],
            "image/png": "[encoded data removed]"
          },
          "metadata": {
            "needs_background": "light"
          }
        }
      ],
      "source": [
        "import matplotlib.pyplot as pyplot\n",
        "import numpy as np\n",
        "\n",
        "# Variáveis inicias\n",
        "x_range = [-50, 50]\n",
        "step = 0.01\n",
        "\n",
        "# Cálculo dos valores de X e Y\n",
        "x = np.arange(min(x_range), max(x_range), step)\n",
        "y = (x**2 - 25) / (x**2 - 7*x - 10)\n",
        "\n",
        "# Configuração do gráfico\n",
        "pyplot.title(\"Gráfico de pontos da Função 1\")\n",
        "#pyplot.gca().set_aspect('equal', 'datalim')\n",
        "pyplot.xlabel(\"x\")\n",
        "pyplot.ylabel(\"y\")\n",
        "\n",
        "# Plotagens ao gráfico\n",
        "pyplot.scatter(x, y, color=\"blue\")\n",
        "\n",
        "# Mostrar gráfico\n",
        "pyplot.show()"
      ]
    },
    {
      "cell_type": "code",
      "source": [
        "import matplotlib.pyplot as pyplot\n",
        "import numpy as np\n",
        "\n",
        "# Variáveis inicias\n",
        "x_range = [-1, 1]\n",
        "step = 0.001\n",
        "\n",
        "# Cálculo dos valores de X e Y\n",
        "x = np.arange(min(x_range), max(x_range), step)\n",
        "y1 = (4/5) * (np.sqrt(np.abs(x)) - np.sqrt(1 - x**2))\n",
        "y2 = (4/5) * (np.sqrt(np.abs(x)) + np.sqrt(1 - x**2))\n",
        "\n",
        "# Configuração do gráfico\n",
        "pyplot.title(\"Gráfico de pontos da Função 2\")\n",
        "pyplot.gca().set_aspect('equal', 'datalim')\n",
        "pyplot.xlabel(\"x\")\n",
        "pyplot.ylabel(\"y\")\n",
        "\n",
        "# Plotagens ao gráfico\n",
        "pyplot.scatter(x, y1, color=\"blue\") # Parte de baixo\n",
        "pyplot.scatter(x, y2, color=\"blue\") # Parte de cima\n",
        "\n",
        "# Mostrar gráfico\n",
        "pyplot.show()"
      ],
      "metadata": {
        "colab": {
          "base_uri": "https://localhost:8080/",
          "height": 295
        },
        "id": "Jiedac9rSUmK",
        "outputId": "fd031d86-e748-46fb-aaf4-379a7d9b04e3"
      },
      "execution_count": 10,
      "outputs": [
        {
          "output_type": "display_data",
          "data": {
            "text/plain": [
              "<Figure size 432x288 with 1 Axes>"
            ],
            "image/png": "[encoded data removed]"
          },
          "metadata": {
            "needs_background": "light"
          }
        }
      ]
    },
    {
      "cell_type": "markdown",
      "source": [
        "\n",
        "\n",
        "---\n",
        "\n"
      ],
      "metadata": {
        "id": "cGZgwUzQSTKj"
      }
    },
    {
      "cell_type": "markdown",
      "source": [
        "Encontre o diâmetro de uma árvore com 2000 anos com seis casas\n",
        "decimais. E plote um gráfico mostrando o diâmetro do tronco\n",
        "anualmente."
      ],
      "metadata": {
        "id": "vpNrsVxiSUR_"
      }
    },
    {
      "cell_type": "code",
      "source": [
        "import matplotlib.pyplot as pyplot\n",
        "import numpy as np\n",
        "\n",
        "# Variáveis inicias\n",
        "t = 2000\n",
        "x_range = [0, 2 * t]\n",
        "step = 100\n",
        "\n",
        "def diamentroBaoba(x):\n",
        "    # Fórmula para o diâmetro do tronco pelo tempo (5.4 é para o baobá)\n",
        "    return 5.4 / (1 + 2.9 * (np.e**(-0.001*x)))\n",
        "\n",
        "# Cálculo dos valores de X e Y\n",
        "x = np.arange(min(x_range), max(x_range), step)\n",
        "y = diamentroBaoba(x)\n",
        "\n",
        "# Configuração do gráfico\n",
        "pyplot.title(\"Gráfico de pontos do diâmetro do tronco pelo tempo\")\n",
        "#pyplot.gca().set_aspect('equal', 'datalim')\n",
        "pyplot.xlabel(\"Tempo\")\n",
        "pyplot.ylabel(\"Diâmetro\")\n",
        "\n",
        "# Plotagens ao gráfico\n",
        "pyplot.scatter(x, y, color=\"blue\")\n",
        "\n",
        "# Mostrar gráfico\n",
        "pyplot.show()\n",
        "\n",
        "print(f\"Para {t} anos é {diamentroBaoba(2000):.2f} metros\")"
      ],
      "metadata": {
        "colab": {
          "base_uri": "https://localhost:8080/",
          "height": 312
        },
        "id": "LPZmZHsXSiFv",
        "outputId": "f20b0848-58bc-40de-974a-b3693bc44d51"
      },
      "execution_count": 3,
      "outputs": [
        {
          "output_type": "display_data",
          "data": {
            "text/plain": [
              "<Figure size 432x288 with 1 Axes>"
            ],
            "image/png": "[encoded data removed]"
          },
          "metadata": {
            "needs_background": "light"
          }
        },
        {
          "output_type": "stream",
          "name": "stdout",
          "text": [
            "Para 2000 anos é 3.88 metros\n"
          ]
        }
      ]
    },
    {
      "cell_type": "markdown",
      "source": [
        "\n",
        "\n",
        "---\n",
        "\n"
      ],
      "metadata": {
        "id": "4eUzsOnESg8R"
      }
    },
    {
      "cell_type": "markdown",
      "source": [
        "A Escala de Richter a magnitude de um terremoto, 𝑅, é dada por:\n",
        "Onde 𝐼 representa a intensidade do terremoto que está sendo medido e 𝐼0 é a\n",
        "intensidade padrão de referência. Determine a intensidade do terremoto do\n",
        "terremoto de 7,8 que abalou a Turquia em 06 de fevereiro de 2023 em relação a\n",
        "intensidade padrão de referência. Trace um gráfico mostrando a intensidade deste\n",
        "terremoto em comparação com o terremoto mais intenso de 2004 (Indonésia) e\n",
        "com o terremoto do Chile de 1960."
      ],
      "metadata": {
        "id": "mfxbWNYSShz2"
      }
    },
    {
      "cell_type": "code",
      "source": [
        "import matplotlib.pyplot as pyplot\n",
        "import sympy as sy\n",
        "\n",
        "# Variáveis inicias\n",
        "i0 = 10**(-5)\n",
        "values_i = {\n",
        "    \"Turkey - 2023\": 7.8,\n",
        "    \"Indonésia - 2004\": 9.1,\n",
        "    \"Chile - 1960\": 9.5\n",
        "}\n",
        "\n",
        "r = sy.Symbol('r')\n",
        "\n",
        "# Cálculo dos valores de X e Y\n",
        "x = [sy.solve(sy.log(i / i0, 10) - r, r)[0] for i in values_i.values()] # Fórmula para a Escala de Richter\n",
        "y = list(values_i.values())\n",
        "\n",
        "# Configuração do gráfico\n",
        "pyplot.title(\"Gráfico de pontos da intensidade dos terremotos\")\n",
        "#pyplot.gca().set_aspect('equal', 'datalim')\n",
        "pyplot.xlabel(\"Intensidade\")\n",
        "pyplot.ylabel(\"Escala Richter\")\n",
        "\n",
        "# Plotagens ao gráfico\n",
        "keys = list(values_i.keys())\n",
        "for i in range(len(values_i)):\n",
        "    pyplot.scatter(x[i], y[i], color=\"blue\")\n",
        "    pyplot.annotate(keys[i], xy=(x[i] + 0.0025, y[i] + 0.0025))\n",
        "\n",
        "# Mostrar gráfico\n",
        "pyplot.show()"
      ],
      "metadata": {
        "colab": {
          "base_uri": "https://localhost:8080/",
          "height": 295
        },
        "id": "k0RVITBmSrpo",
        "outputId": "312f9031-38e7-41e2-f84a-1113f4e414ce"
      },
      "execution_count": 4,
      "outputs": [
        {
          "output_type": "display_data",
          "data": {
            "text/plain": [
              "<Figure size 432x288 with 1 Axes>"
            ],
            "image/png": "[encoded data removed]"
          },
          "metadata": {
            "needs_background": "light"
          }
        }
      ]
    },
    {
      "cell_type": "markdown",
      "source": [
        "\n",
        "\n",
        "---\n",
        "\n"
      ],
      "metadata": {
        "id": "6Y9f0W-ITB9_"
      }
    },
    {
      "cell_type": "markdown",
      "source": [
        "Os legistas determinam a hora da morte, devido a um assassinato ou acidente,\n",
        "usando a seguinte fórmula:\n",
        "Onde 𝑇0 é a temperatura ambiente, 𝑇1 é a temperatura do corpo na hora da\n",
        "morte. Um homem morreu a meia-noite, na varanda da sua própria casa, sem\n",
        "qualquer sinal de violência. Considere que a temperatura ambiente permaneceu\n",
        "constante em 21º𝐶 e que a temperatura do corpo na hora da morte era normal e\n",
        "estava em 36.5º𝐶. Qual será a temperatura do corpo às 8: 00 ℎ quando for\n",
        "encontrado pelo carteiro."
      ],
      "metadata": {
        "id": "RZW9PIChTD12"
      }
    },
    {
      "cell_type": "code",
      "source": [
        "import matplotlib.pyplot as pyplot\n",
        "import numpy as np\n",
        "\n",
        "# Variáveis inicias\n",
        "temp_amb = 21 # Temperatura ambiente (constante)\n",
        "temp0_corpo = 36.5 # Temperatura inicial do corpo\n",
        "time_range = [0, 16] # Das 0:00 até 8:00\n",
        "step = 0.2\n",
        "\n",
        "def tempFinal_corpo(x):\n",
        "    # Fórmula para a temperatura final do corpo dado o tempo já morto\n",
        "    return temp_amb + (temp0_corpo - temp_amb) * (0.97**x)\n",
        "\n",
        "# Cálculo dos valores de X e Y\n",
        "x = np.arange(min(time_range), max(time_range), step)\n",
        "y = tempFinal_corpo(x)\n",
        "\n",
        "# Configuração do gráfico\n",
        "pyplot.title(\"Gráfico de pontos da temperatura do corpo morto pelo tempo\")\n",
        "#pyplot.gca().set_aspect('equal', 'datalim')\n",
        "pyplot.xlabel(\"Tempo\")\n",
        "pyplot.ylabel(\"Temperatura\")\n",
        "\n",
        "# Plotagens ao gráfico\n",
        "pyplot.scatter(x, y, color=\"blue\")\n",
        "\n",
        "# Mostrar gráfico\n",
        "pyplot.show()\n",
        "\n",
        "print(f\"Para 8 horas é {tempFinal_corpo(8):.2f}°C\")"
      ],
      "metadata": {
        "colab": {
          "base_uri": "https://localhost:8080/",
          "height": 312
        },
        "id": "bF1u0ExcTEBa",
        "outputId": "fac70875-bcc7-46f0-cea7-760594e64c25"
      },
      "execution_count": 5,
      "outputs": [
        {
          "output_type": "display_data",
          "data": {
            "text/plain": [
              "<Figure size 432x288 with 1 Axes>"
            ],
            "image/png": "[encoded data removed]"
          },
          "metadata": {
            "needs_background": "light"
          }
        },
        {
          "output_type": "stream",
          "name": "stdout",
          "text": [
            "Para 8 horas é 33.15°C\n"
          ]
        }
      ]
    }
  ]
}