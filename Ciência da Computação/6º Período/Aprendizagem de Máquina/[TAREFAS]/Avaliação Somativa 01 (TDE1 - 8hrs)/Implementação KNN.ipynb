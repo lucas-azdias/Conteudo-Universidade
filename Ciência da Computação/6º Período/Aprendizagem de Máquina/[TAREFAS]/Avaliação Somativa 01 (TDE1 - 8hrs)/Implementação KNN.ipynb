{
  "nbformat": 4,
  "nbformat_minor": 0,
  "metadata": {
    "colab": {
      "provenance": [],
      "authorship_tag": "ABX9TyNwxgOXbY2ZH9ljgb63tJTz",
      "include_colab_link": true
    },
    "kernelspec": {
      "name": "python3",
      "display_name": "Python 3"
    },
    "language_info": {
      "name": "python"
    }
  },
  "cells": [
    {
      "cell_type": "markdown",
      "metadata": {
        "id": "view-in-github",
        "colab_type": "text"
      },
      "source": [
        "<a href=\"https://colab.research.google.com/github/lucas-azdias/Conteudo-Universidade/blob/master/Ci%C3%AAncia%20da%20Computa%C3%A7%C3%A3o/6%C2%BA%20Per%C3%ADodo/Aprendizagem%20de%20M%C3%A1quina/%5BTAREFAS%5D/Avalia%C3%A7%C3%A3o%20Somativa%2001%20(TDE1%20-%208hrs)/Implementa%C3%A7%C3%A3o%20KNN.ipynb\" target=\"_parent\"><img src=\"https://colab.research.google.com/assets/colab-badge.svg\" alt=\"Open In Colab\"/></a>"
      ]
    },
    {
      "cell_type": "markdown",
      "source": [
        "# ENVIRONMENT"
      ],
      "metadata": {
        "id": "HtDewdQWosvG"
      }
    },
    {
      "cell_type": "code",
      "source": [
        "import matplotlib.colors as mcolors\n",
        "import matplotlib.pyplot as plt\n",
        "\n",
        "import numpy as np\n",
        "\n",
        "import sklearn.datasets\n",
        "import sklearn.metrics\n",
        "import sklearn.model_selection\n",
        "import sklearn.neighbors\n",
        "\n",
        "\n",
        "from typing import Iterable"
      ],
      "metadata": {
        "id": "Y1KU_hH26l_1"
      },
      "execution_count": null,
      "outputs": []
    },
    {
      "cell_type": "markdown",
      "source": [
        "# FUNCTIONS"
      ],
      "metadata": {
        "id": "D_G2FZplovDs"
      }
    },
    {
      "cell_type": "code",
      "source": [
        "# Ploting model dataset function\n",
        "def model_dataset_plot(model_data, model_labels):\n",
        "    _, ax = plt.subplots()\n",
        "    for n_class in range(0, len(np.unique(model_labels))):\n",
        "        ax.scatter(\n",
        "            model_data[model_labels==n_class, 0],\n",
        "            model_data[model_labels==n_class, 1],\n",
        "            c=tuple(mcolors.BASE_COLORS.keys())[n_class],\n",
        "            label=str(n_class)\n",
        "        )\n",
        "    ax.legend()\n",
        "    plt.show()\n",
        "\n",
        "\n",
        "# Model analysis function\n",
        "def model_analysis(labels, test_labels, predicted_labels):\n",
        "    print(\"Accuracy Score:\", sklearn.metrics.accuracy_score(test_labels, predicted_labels), end=\"\\n\\n\")\n",
        "    print(sklearn.metrics.classification_report(test_labels, predicted_labels))\n",
        "\n",
        "    cm = sklearn.metrics.confusion_matrix(test_labels, predicted_labels, labels=labels)\n",
        "    sklearn.metrics.ConfusionMatrixDisplay(confusion_matrix=cm, display_labels=labels).plot()"
      ],
      "metadata": {
        "id": "R1B-2OMgowuG"
      },
      "execution_count": null,
      "outputs": []
    },
    {
      "cell_type": "markdown",
      "source": [
        "# LOADING MODEL\n"
      ],
      "metadata": {
        "id": "B65IGFnto2sU"
      }
    },
    {
      "cell_type": "code",
      "source": [
        "# Defining the random seed\n",
        "random_seed = 9999\n",
        "\n",
        "# Loading the model dataset\n",
        "data, labels = sklearn.datasets.load_breast_cancer(return_X_y=True)\n",
        "\n",
        "# Ploting model dataset\n",
        "#model_dataset_plot(data, labels)\n",
        "\n",
        "# Splitting the model dataset into train/test groups\n",
        "train_data, test_data, train_labels, test_labels = sklearn.model_selection.train_test_split(\n",
        "    data,\n",
        "    labels,\n",
        "    train_size=0.7,\n",
        "    test_size=0.3,\n",
        "    random_state=random_seed\n",
        ")\n",
        "\n",
        "# Defining the common parameters\n",
        "p = 2\n",
        "k_neighbors = 5"
      ],
      "metadata": {
        "id": "5gGWSe_Po3ZL"
      },
      "execution_count": null,
      "outputs": []
    },
    {
      "cell_type": "markdown",
      "source": [
        "# SCIKIT-LEARN MODEL IMPLEMENTATION\n"
      ],
      "metadata": {
        "id": "pJlyyJT36I6w"
      }
    },
    {
      "cell_type": "code",
      "source": [
        "sk_knn = sklearn.neighbors.KNeighborsClassifier(\n",
        "    metric=\"minkowski\",\n",
        "    p=p,\n",
        "    n_jobs=1,\n",
        "    n_neighbors=k_neighbors\n",
        ")\n",
        "\n",
        "# Train the model\n",
        "sk_knn.fit(train_data, train_labels)\n",
        "\n",
        "# Test the model\n",
        "predicted_labels = sk_knn.predict(test_data)\n",
        "\n",
        "# Model analysis\n",
        "model_analysis(np.unique(train_labels), test_labels, predicted_labels)"
      ],
      "metadata": {
        "colab": {
          "base_uri": "https://localhost:8080/",
          "height": 640
        },
        "id": "Nl3v4Bfx6Gfu",
        "outputId": "e197ba02-fd5c-48f0-bb46-5c0c3f44cb58"
      },
      "execution_count": null,
      "outputs": [
        {
          "output_type": "stream",
          "name": "stdout",
          "text": [
            "Accuracy Score: 0.935672514619883\n",
            "\n",
            "              precision    recall  f1-score   support\n",
            "\n",
            "           0       0.89      0.91      0.90        53\n",
            "           1       0.96      0.95      0.95       118\n",
            "\n",
            "    accuracy                           0.94       171\n",
            "   macro avg       0.92      0.93      0.93       171\n",
            "weighted avg       0.94      0.94      0.94       171\n",
            "\n"
          ]
        },
        {
          "output_type": "display_data",
          "data": {
            "text/plain": [
              "<Figure size 640x480 with 2 Axes>"
            ],
            "image/png": "[encoded data removed]"
          },
          "metadata": {}
        }
      ]
    },
    {
      "cell_type": "markdown",
      "source": [
        "# OWN MODEL IMPLEMENTATION\n"
      ],
      "metadata": {
        "id": "ZWbiMmhp6ZVc"
      }
    },
    {
      "cell_type": "code",
      "execution_count": null,
      "metadata": {
        "colab": {
          "base_uri": "https://localhost:8080/",
          "height": 640
        },
        "id": "LFeMcIzd4YlG",
        "outputId": "6e7c7095-df89-4dbf-e5fd-1b4a99156c16"
      },
      "outputs": [
        {
          "output_type": "stream",
          "name": "stdout",
          "text": [
            "Accuracy Score: 0.935672514619883\n",
            "\n",
            "              precision    recall  f1-score   support\n",
            "\n",
            "           0       0.89      0.91      0.90        53\n",
            "           1       0.96      0.95      0.95       118\n",
            "\n",
            "    accuracy                           0.94       171\n",
            "   macro avg       0.92      0.93      0.93       171\n",
            "weighted avg       0.94      0.94      0.94       171\n",
            "\n"
          ]
        },
        {
          "output_type": "display_data",
          "data": {
            "text/plain": [
              "<Figure size 640x480 with 2 Axes>"
            ],
            "image/png": "[encoded data removed]"
          },
          "metadata": {}
        }
      ],
      "source": [
        "class knn():\n",
        "\n",
        "    def __init__(self, p:int, k_neighbors:int) -> None:\n",
        "        self.p = p\n",
        "        self.k_neighbors = k_neighbors\n",
        "\n",
        "\n",
        "    def __minkowski(self, u:Iterable, v:Iterable) -> float:\n",
        "        if len(u) != len(v):\n",
        "            raise ValueError(\"Vectors of different sizes passed as arguments\")\n",
        "\n",
        "        # distance = 0\n",
        "        # for i in range(0, len(u)):\n",
        "        #     distance += np.power(np.abs(u[i] - v[i]), self.p)\n",
        "\n",
        "        distance = np.sum(np.power(np.abs(np.subtract(u, v)), self.p))\n",
        "\n",
        "        distance = np.power(distance, np.divide(1, p))\n",
        "\n",
        "        return distance\n",
        "\n",
        "\n",
        "    def fit(self, data, labels) -> None:\n",
        "        self.data = data\n",
        "        self.labels = labels\n",
        "\n",
        "\n",
        "    def predict(self, data) -> tuple:\n",
        "        labels = list()\n",
        "        for instance in data:\n",
        "            distances = list()\n",
        "            for i in range(0, len(self.data)):\n",
        "                distances.append((self.__minkowski(instance, self.data[i]), self.labels[i]))\n",
        "\n",
        "            distances.sort(key=lambda x: x[0])\n",
        "\n",
        "            votes = {k: 0 for k in np.unique(self.labels)}\n",
        "            for i in range(0, self.k_neighbors):\n",
        "                votes[distances[i][1]] += 1\n",
        "\n",
        "            # print(votes, max(*votes.items(), key=lambda x: x[1])[0])\n",
        "\n",
        "            labels.append(max(*votes.items(), key=lambda x: x[1])[0])\n",
        "\n",
        "        return tuple(labels)\n",
        "\n",
        "\n",
        "own_knn = knn(p=p, k_neighbors=k_neighbors)\n",
        "\n",
        "# Train the model\n",
        "own_knn.fit(train_data, train_labels)\n",
        "\n",
        "# Test the model\n",
        "own_knn.predict(test_data)\n",
        "\n",
        "# Model analysis\n",
        "model_analysis(np.unique(train_labels), test_labels, predicted_labels)"
      ]
    }
  ]
}